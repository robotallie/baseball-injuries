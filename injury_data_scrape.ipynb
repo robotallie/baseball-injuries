{
 "cells": [
  {
   "cell_type": "code",
   "execution_count": 1,
   "metadata": {
    "collapsed": true
   },
   "outputs": [],
   "source": [
    "import csv\n",
    "import requests\n",
    "from bs4 import BeautifulSoup\n",
    "\n",
    "import numpy as np\n",
    "import pandas as pd\n",
    "import matplotlib.pyplot as plt\n",
    "import seaborn as sns\n",
    "\n",
    "%matplotlib inline"
   ]
  },
  {
   "cell_type": "code",
   "execution_count": 44,
   "metadata": {
    "scrolled": true
   },
   "outputs": [
    {
     "data": {
      "text/html": [
       "<div>\n",
       "<style scoped>\n",
       "    .dataframe tbody tr th:only-of-type {\n",
       "        vertical-align: middle;\n",
       "    }\n",
       "\n",
       "    .dataframe tbody tr th {\n",
       "        vertical-align: top;\n",
       "    }\n",
       "\n",
       "    .dataframe thead th {\n",
       "        text-align: right;\n",
       "    }\n",
       "</style>\n",
       "<table border=\"1\" class=\"dataframe\">\n",
       "  <thead>\n",
       "    <tr style=\"text-align: right;\">\n",
       "      <th></th>\n",
       "      <th>0</th>\n",
       "      <th>1</th>\n",
       "      <th>2</th>\n",
       "      <th>3</th>\n",
       "      <th>4</th>\n",
       "    </tr>\n",
       "  </thead>\n",
       "  <tbody>\n",
       "    <tr>\n",
       "      <th>0</th>\n",
       "      <td>1999-04-05</td>\n",
       "      <td>Cardinals</td>\n",
       "      <td></td>\n",
       "      <td>• David Howard</td>\n",
       "      <td>placed on 15-day DL</td>\n",
       "    </tr>\n",
       "    <tr>\n",
       "      <th>1</th>\n",
       "      <td>1999-04-05</td>\n",
       "      <td>Cardinals</td>\n",
       "      <td></td>\n",
       "      <td>• Ray Lankford</td>\n",
       "      <td>placed on 15-day DL</td>\n",
       "    </tr>\n",
       "    <tr>\n",
       "      <th>2</th>\n",
       "      <td>1999-04-05</td>\n",
       "      <td>Giants</td>\n",
       "      <td></td>\n",
       "      <td>• Bill Mueller</td>\n",
       "      <td>placed on 15-day DL</td>\n",
       "    </tr>\n",
       "    <tr>\n",
       "      <th>3</th>\n",
       "      <td>1999-04-08</td>\n",
       "      <td>Padres</td>\n",
       "      <td></td>\n",
       "      <td>• George Arias</td>\n",
       "      <td>placed on 15-day DL</td>\n",
       "    </tr>\n",
       "    <tr>\n",
       "      <th>4</th>\n",
       "      <td>1999-04-12</td>\n",
       "      <td>Blue Jays</td>\n",
       "      <td>• Robert Person</td>\n",
       "      <td></td>\n",
       "      <td>activated from 15-day DL</td>\n",
       "    </tr>\n",
       "  </tbody>\n",
       "</table>\n",
       "</div>"
      ],
      "text/plain": [
       "            0           1                 2                3  \\\n",
       "0  1999-04-05   Cardinals                     • David Howard   \n",
       "1  1999-04-05   Cardinals                     • Ray Lankford   \n",
       "2  1999-04-05      Giants                     • Bill Mueller   \n",
       "3  1999-04-08      Padres                     • George Arias   \n",
       "4  1999-04-12   Blue Jays   • Robert Person                    \n",
       "\n",
       "                           4  \n",
       "0        placed on 15-day DL  \n",
       "1        placed on 15-day DL  \n",
       "2        placed on 15-day DL  \n",
       "3        placed on 15-day DL  \n",
       "4   activated from 15-day DL  "
      ]
     },
     "execution_count": 44,
     "metadata": {},
     "output_type": "execute_result"
    }
   ],
   "source": [
    "df = pd.DataFrame()\n",
    "# Get a list of dictionaries for the injuries \n",
    "injuries_data = []\n",
    "for i in range(0,723): # number of page increments plus one\n",
    "    url_string = \"http://www.prosportstransactions.com/baseball/Search/SearchResults.php?Player=&Team=&BeginDate=1999-03-01&EndDate=2017-11-01&DLChkBx=yes&submit=Search&start=\"+str(25* i )\n",
    "    req = requests.get(url_string)\n",
    "    soup = BeautifulSoup(req.content, 'lxml')\n",
    "    for item in soup.find_all(\"tr\", {\"align\":\"left\"}):# Code for each individual page to capture data\n",
    "        raw_text = item.text.strip().split(\"\\n\")\n",
    "        injuries_data.append(raw_text)\n",
    "\n",
    "# Create a dataframe from the injuries data for 723 pages, with 25 per page = 18075 ish        \n",
    "df = pd.DataFrame(injuries_data)\n",
    "df.head()"
   ]
  },
  {
   "cell_type": "code",
   "execution_count": 46,
   "metadata": {
    "scrolled": false
   },
   "outputs": [
    {
     "data": {
      "text/html": [
       "<div>\n",
       "<style scoped>\n",
       "    .dataframe tbody tr th:only-of-type {\n",
       "        vertical-align: middle;\n",
       "    }\n",
       "\n",
       "    .dataframe tbody tr th {\n",
       "        vertical-align: top;\n",
       "    }\n",
       "\n",
       "    .dataframe thead th {\n",
       "        text-align: right;\n",
       "    }\n",
       "</style>\n",
       "<table border=\"1\" class=\"dataframe\">\n",
       "  <thead>\n",
       "    <tr style=\"text-align: right;\">\n",
       "      <th></th>\n",
       "      <th>Date</th>\n",
       "      <th>Team</th>\n",
       "      <th>Acquired</th>\n",
       "      <th>Relinquished</th>\n",
       "      <th>Notes</th>\n",
       "    </tr>\n",
       "  </thead>\n",
       "  <tbody>\n",
       "    <tr>\n",
       "      <th>0</th>\n",
       "      <td>1999-04-05</td>\n",
       "      <td>Cardinals</td>\n",
       "      <td></td>\n",
       "      <td>• David Howard</td>\n",
       "      <td>placed on 15-day DL</td>\n",
       "    </tr>\n",
       "    <tr>\n",
       "      <th>1</th>\n",
       "      <td>1999-04-05</td>\n",
       "      <td>Cardinals</td>\n",
       "      <td></td>\n",
       "      <td>• Ray Lankford</td>\n",
       "      <td>placed on 15-day DL</td>\n",
       "    </tr>\n",
       "    <tr>\n",
       "      <th>2</th>\n",
       "      <td>1999-04-05</td>\n",
       "      <td>Giants</td>\n",
       "      <td></td>\n",
       "      <td>• Bill Mueller</td>\n",
       "      <td>placed on 15-day DL</td>\n",
       "    </tr>\n",
       "    <tr>\n",
       "      <th>3</th>\n",
       "      <td>1999-04-08</td>\n",
       "      <td>Padres</td>\n",
       "      <td></td>\n",
       "      <td>• George Arias</td>\n",
       "      <td>placed on 15-day DL</td>\n",
       "    </tr>\n",
       "    <tr>\n",
       "      <th>4</th>\n",
       "      <td>1999-04-12</td>\n",
       "      <td>Blue Jays</td>\n",
       "      <td>• Robert Person</td>\n",
       "      <td></td>\n",
       "      <td>activated from 15-day DL</td>\n",
       "    </tr>\n",
       "  </tbody>\n",
       "</table>\n",
       "</div>"
      ],
      "text/plain": [
       "         Date        Team          Acquired     Relinquished  \\\n",
       "0  1999-04-05   Cardinals                     • David Howard   \n",
       "1  1999-04-05   Cardinals                     • Ray Lankford   \n",
       "2  1999-04-05      Giants                     • Bill Mueller   \n",
       "3  1999-04-08      Padres                     • George Arias   \n",
       "4  1999-04-12   Blue Jays   • Robert Person                    \n",
       "\n",
       "                       Notes  \n",
       "0        placed on 15-day DL  \n",
       "1        placed on 15-day DL  \n",
       "2        placed on 15-day DL  \n",
       "3        placed on 15-day DL  \n",
       "4   activated from 15-day DL  "
      ]
     },
     "execution_count": 46,
     "metadata": {},
     "output_type": "execute_result"
    }
   ],
   "source": [
    "df.columns = ['Date','Team','Acquired','Relinquished','Notes']\n",
    "df.head()"
   ]
  },
  {
   "cell_type": "code",
   "execution_count": 109,
   "metadata": {},
   "outputs": [
    {
     "data": {
      "text/plain": [
       "18066"
      ]
     },
     "execution_count": 109,
     "metadata": {},
     "output_type": "execute_result"
    }
   ],
   "source": [
    "df.shape[0]"
   ]
  },
  {
   "cell_type": "code",
   "execution_count": 57,
   "metadata": {
    "collapsed": true
   },
   "outputs": [],
   "source": [
    "# Create a dummy column that is 1 if the row represents an injury \n",
    "# or a 0 if the row represents a player reactivated.\n",
    "df['Injury'] = [1 if 'placed' in text else 0 for text in df.Notes]"
   ]
  },
  {
   "cell_type": "code",
   "execution_count": 150,
   "metadata": {},
   "outputs": [],
   "source": [
    "# Start to extract the number out of the Notes column.\n",
    "# Replace the hyphen in '15-day' with a space to help splitting and extracting digits.\n",
    "df.Notes = df.Notes.apply(lambda x: x.replace('-',' '))"
   ]
  },
  {
   "cell_type": "code",
   "execution_count": null,
   "metadata": {
    "collapsed": true
   },
   "outputs": [],
   "source": []
  },
  {
   "cell_type": "code",
   "execution_count": 185,
   "metadata": {
    "collapsed": true
   },
   "outputs": [],
   "source": [
    "def filter_notes_for_DL(notes):\n",
    "    if '15' in notes:\n",
    "        return 15\n",
    "    elif '60' in notes:\n",
    "        return 60\n",
    "    elif '10' in notes:\n",
    "        return 10\n",
    "    elif '7' in notes:\n",
    "        return 7\n",
    "    elif 'restricted' in notes:\n",
    "        return 0\n",
    "    elif 'temporary' in notes:\n",
    "        return 0\n",
    "    else:\n",
    "        return 0"
   ]
  },
  {
   "cell_type": "code",
   "execution_count": 186,
   "metadata": {},
   "outputs": [],
   "source": [
    "df['DL_length'] = df.Notes.map(filter_notes_for_DL)"
   ]
  },
  {
   "cell_type": "code",
   "execution_count": 212,
   "metadata": {
    "collapsed": true
   },
   "outputs": [],
   "source": [
    "def extract_injury(notes):\n",
    "    \"\"\"Function parses notes column\n",
    "    to obtain the injury type and returns a string\"\"\"\n",
    "    if len(notes.split('with')) > 1:\n",
    "        return notes.split('with')[1]\n",
    "    else:\n",
    "        return 'unknown'\n",
    "  "
   ]
  },
  {
   "cell_type": "code",
   "execution_count": 200,
   "metadata": {},
   "outputs": [
    {
     "data": {
      "text/plain": [
       "0          placed on 15 day DL\n",
       "1          placed on 15 day DL\n",
       "2          placed on 15 day DL\n",
       "3          placed on 15 day DL\n",
       "4     activated from 15 day DL\n",
       "Name: Notes, dtype: object"
      ]
     },
     "execution_count": 200,
     "metadata": {},
     "output_type": "execute_result"
    }
   ],
   "source": [
    "df.Notes.head()"
   ]
  },
  {
   "cell_type": "code",
   "execution_count": 214,
   "metadata": {
    "scrolled": true
   },
   "outputs": [],
   "source": [
    "# Create a column that describes the type of injury based on the notes column using\n",
    "# the function I created: extract_injury, df['Injury_Type']\n",
    "df['Injury_Type'] = df.Notes.map(extract_injury)"
   ]
  },
  {
   "cell_type": "code",
   "execution_count": 217,
   "metadata": {
    "scrolled": true
   },
   "outputs": [
    {
     "data": {
      "text/plain": [
       "unknown                                                                  9627\n",
       " strained left hamstring                                                  283\n",
       " strained right hamstring                                                 229\n",
       " right shoulder inflammation                                              222\n",
       " concussion                                                               185\n",
       " strained right shoulder                                                  176\n",
       " strained left oblique                                                    151\n",
       " right elbow inflammation                                                 145\n",
       " strained lower back                                                      137\n",
       " strained right groin                                                     125\n",
       " right shoulder tendinitis                                                117\n",
       " strained right elbow                                                     103\n",
       " strained left shoulder                                                    98\n",
       " strained left groin                                                       97\n",
       " strained right forearm                                                    84\n",
       " sprained right ankle                                                      69\n",
       " sore right shoulder                                                       68\n",
       " sprained left ankle                                                       66\n",
       " strained right calf                                                       61\n",
       " strained left calf                                                        60\n",
       " strained left oblique muscle                                              59\n",
       " left elbow inflammation                                                   58\n",
       " strained right oblique muscle                                             56\n",
       " strained right quadriceps                                                 55\n",
       " sore right elbow                                                          51\n",
       " strained right oblique                                                    51\n",
       " fractured left hand                                                       50\n",
       " left shoulder inflammation                                                46\n",
       " strained left elbow                                                       43\n",
       " right elbow tendinitis                                                    43\n",
       "                                                                         ... \n",
       " fractured jaw                                                              1\n",
       " left forearm stiffness                                                     1\n",
       " bone chips in left elbow (out for season)                                  1\n",
       " ruptured tendon in right knee (CBS) / strained right hamstring (MLB)       1\n",
       " stress injury to scapula bone in right shoulder                            1\n",
       " sprained flexor muscle in right elbow                                      1\n",
       " nerve imflammation in right elbow                                          1\n",
       " torn labrum in right hip (out for season)                                  1\n",
       " fractured left/right foot (out for season)                                 1\n",
       " stress fracture in ribs                                                    1\n",
       " injured left kneecap                                                       1\n",
       " strained flexor in left forearm                                            1\n",
       " surgery on right elbow to repair ligament                                  1\n",
       " Achilles tendon injury                                                     1\n",
       " strained right shoulder / lat muscle                                       1\n",
       " heart condition                                                            1\n",
       " deep bone bruise in left foot                                              1\n",
       " strained right hamstring (oblique per MLB.com)                             1\n",
       " inflammation of ulnar nerve in right forearm                               1\n",
       " right intercostal injury / strained right oblique                          1\n",
       " split fingernail on right index finger                                     1\n",
       " avulsion on right middle finger                                            1\n",
       " left lateral epicondylitis (tennis elbow)                                  1\n",
       " strained left hamstring (CBC) / right hamstring (CBS MLB)                  1\n",
       " bruised right knee (CBC MLB) / strained right shoulder (CBS)               1\n",
       " arthritis in left knee                                                     1\n",
       " lacerated hand                                                             1\n",
       " strained elbow                                                             1\n",
       " strained latissimus dorsi muscle (out for season)                          1\n",
       " bruised and lacerated thumb                                                1\n",
       "Name: Injury_Type, Length: 2293, dtype: int64"
      ]
     },
     "execution_count": 217,
     "metadata": {},
     "output_type": "execute_result"
    }
   ],
   "source": [
    "# What kind of injuries are we looking at?\n",
    "df['Injury_Type'].value_counts()"
   ]
  },
  {
   "cell_type": "markdown",
   "metadata": {},
   "source": [
    "## At this point, I have a data frame of all the injury data from the 1999-2000 season to the 2016-2017 season (18 seasons).\n",
    "\n",
    "# Next Steps:\n",
    "* Remove all the 'reactivated' rows so that just the 'placed on the DL' are left, since I'm interested most of all in the data on getting injured.\n",
    "* My one concern is that not knowing when someone comes back might be annoying. Do I really want to re-grab that data later, when I look at player data?"
   ]
  },
  {
   "cell_type": "code",
   "execution_count": 219,
   "metadata": {},
   "outputs": [
    {
     "name": "stdout",
     "output_type": "stream",
     "text": [
      "Before removing reactivations: (18066, 8)\n",
      "With only placements onto the Disabled List: (8346, 8)\n"
     ]
    }
   ],
   "source": [
    "# Remove rows where df['Injury']==0\n",
    "print('Before removing reactivations:',df.shape)\n",
    "df = df[df.Injury != 0]\n",
    "print('With only placements onto the Disabled List:',df.shape)"
   ]
  },
  {
   "cell_type": "code",
   "execution_count": 220,
   "metadata": {
    "collapsed": true
   },
   "outputs": [],
   "source": [
    "df.to_csv('injuries.csv',index=False)"
   ]
  },
  {
   "cell_type": "code",
   "execution_count": null,
   "metadata": {
    "collapsed": true
   },
   "outputs": [],
   "source": []
  },
  {
   "cell_type": "code",
   "execution_count": null,
   "metadata": {
    "collapsed": true
   },
   "outputs": [],
   "source": []
  },
  {
   "cell_type": "code",
   "execution_count": null,
   "metadata": {
    "collapsed": true
   },
   "outputs": [],
   "source": []
  }
 ],
 "metadata": {
  "kernelspec": {
   "display_name": "Python 3",
   "language": "python",
   "name": "python3"
  },
  "language_info": {
   "codemirror_mode": {
    "name": "ipython",
    "version": 3
   },
   "file_extension": ".py",
   "mimetype": "text/x-python",
   "name": "python",
   "nbconvert_exporter": "python",
   "pygments_lexer": "ipython3",
   "version": "3.6.1"
  }
 },
 "nbformat": 4,
 "nbformat_minor": 2
}
